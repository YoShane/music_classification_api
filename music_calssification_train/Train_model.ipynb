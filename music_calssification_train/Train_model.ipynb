{
 "cells": [
  {
   "cell_type": "code",
   "execution_count": 1,
   "metadata": {},
   "outputs": [
    {
     "name": "stdout",
     "output_type": "stream",
     "text": [
      "[ 0.23928395  0.57665939  0.2252566   0.72321285  1.          0.69121144\n",
      "  0.18632433  0.62950217  0.32850504  0.4504422   0.26011176  0.50051541\n",
      "  0.8         0.         -0.77211592  0.37158951  0.85710405  0.53039353\n",
      "  0.45456493  0.8209544  -0.18436628  0.54720445 -0.33921686  0.71048254\n",
      " -0.42207358  0.76718094 -0.20810309  0.5266724  -0.56180304  0.71698113\n",
      " -1.          0.91022165 -1.          0.7252953  -1.          0.62826765\n",
      " -1.          0.59434875 -0.82053575  0.6481214   0.12325827  0.60117123\n",
      "  0.11177188  0.56550506  0.27585232  0.65690474  1.          0.91708972\n",
      "  0.53115699  0.75672924  0.30159752  0.46777047  0.45113615  0.93066821\n",
      "  0.27290388  0.41528862  0.37966586  0.90301292  0.21294837  0.66889328\n",
      "  0.15863902  0.52038073  0.24978286  0.79281969 -0.95559888  0.24693093\n",
      " -0.89999919  0.27012218 -0.81191477  0.35162556 -0.81862864  0.41410798\n",
      " -0.38774489  0.5600728  -0.12994025  0.70276499 -0.27379545  0.70375467\n",
      " -0.69580988  0.41276352 -0.36957105  0.69613419 -0.33820426  0.70818089\n",
      " -0.06785934  1.         -0.54075916  0.81803933  0.68648353  0.93354903\n",
      "  0.23875458  1.         -0.05488633  0.49507913  0.44309106  1.\n",
      "  0.125       0.          0.3         0.5         0.9         0.6960097\n",
      "  0.          0.04722222  0.          0.93333333  0.76        0.42777778]\n"
     ]
    },
    {
     "data": {
      "text/plain": [
       "['model_music_classification.pkl']"
      ]
     },
     "execution_count": 1,
     "metadata": {},
     "output_type": "execute_result"
    }
   ],
   "source": [
    "import numpy\n",
    "import pandas\n",
    "import joblib\n",
    "import sklearn\n",
    "\n",
    "from sklearn.neighbors import KNeighborsClassifier\n",
    "from sklearn.ensemble import RandomForestClassifier\n",
    "from sklearn.neural_network import MLPClassifier\n",
    "from sklearn.svm import SVC\n",
    "\n",
    "\n",
    "# Read Dataset (CSV file)\n",
    "data_set = pandas.read_csv(\"orig_datasets.csv\", index_col=False)\n",
    "\n",
    "# Convert to Array\n",
    "data_set = numpy.array(data_set)\n",
    "\n",
    "\n",
    "# Calculate Number of Rows and Columns of Dataset File\n",
    "number_of_rows, number_of_cols = data_set.shape\n",
    "\n",
    "\n",
    "# Get Axis_X and Axis_Y of Data\n",
    "data_x = data_set[:, :number_of_cols - 5]\n",
    "data_y = data_set[:, number_of_cols - 5]\n",
    "\n",
    "numpy.save(\"classification_dataset.npy\", data_x)\n",
    "#print(data_x)\n",
    "\n",
    "scaler = sklearn.preprocessing.MaxAbsScaler()\n",
    "data_x = scaler.fit_transform(data_x)\n",
    "\n",
    "print(data_x[0])\n",
    "#     # Different Ways of Classification (In Our Project, We Use SVM)\n",
    "model = SVC(C=100.0, gamma=0.08)\n",
    "\n",
    "#     # model = RandomForestClassifier(n_estimators=10)\n",
    "#     # model = MLPClassifier(hidden_layer_sizes=(100,))\n",
    "#     # model = KNeighborsClassifier(n_neighbors=Model.NEIGHBOURS_NUMBER)\n",
    "\n",
    "model.fit(data_x, data_y)\n",
    "\n",
    "joblib.dump(model, 'model_music_classification.pkl')\n",
    "\n",
    "#注意，pkl要連同classification_dataset.npy放進去"
   ]
  },
  {
   "cell_type": "code",
   "execution_count": 18,
   "metadata": {},
   "outputs": [
    {
     "name": "stdout",
     "output_type": "stream",
     "text": [
      "['信靠' '信靠' '仰望' '尋求' '讚美' '尋求' '仰望' '仰望' '宣告' '醫治' '仰望' '仰望' '讚美' '尋求'\n",
      " '仰望' '宣告' '仰望' '醫治' '信靠' '感恩' '尋求' '奉獻' '奉獻' '奉獻' '爭戰' '爭戰' '悔改' '仰望'\n",
      " '宣告']\n"
     ]
    }
   ],
   "source": [
    "# Predict Genres\n",
    "svm = joblib.load('model_music_classification.pkl')\n",
    "predicts = svm.predict(data_x)\n",
    "\n",
    "print(predicts)"
   ]
  },
  {
   "cell_type": "code",
   "execution_count": 19,
   "metadata": {},
   "outputs": [
    {
     "data": {
      "text/plain": [
       "(29, 108)"
      ]
     },
     "execution_count": 19,
     "metadata": {},
     "output_type": "execute_result"
    }
   ],
   "source": [
    "data_x.shape"
   ]
  },
  {
   "cell_type": "code",
   "execution_count": 20,
   "metadata": {},
   "outputs": [
    {
     "data": {
      "text/plain": [
       "array([ 0.2583203 ,  0.78277481,  0.2526846 ,  0.82560139,  1.        ,\n",
       "        0.88582712,  0.20574657,  0.80880017,  0.44658447,  0.4504422 ,\n",
       "        0.33956396,  0.75144793,  0.8       ,  0.        , -0.84599423,\n",
       "        0.43551161,  0.95496682,  0.64661615,  0.45456493,  0.8209544 ,\n",
       "       -0.18536769,  0.6079028 , -0.40501245,  0.71048254, -0.42207358,\n",
       "        0.76718094, -0.29976307,  0.67335309, -0.56180304,  0.85865357,\n",
       "       -1.        ,  1.        , -1.        ,  0.7403454 , -1.        ,\n",
       "        0.62826765, -1.        ,  0.59434875, -0.82053575,  0.6481214 ,\n",
       "        0.14118065,  0.60796104,  0.20961671,  0.65761488,  0.31591573,\n",
       "        0.65690474,  1.        ,  0.91708972,  0.53115699,  0.84392994,\n",
       "        0.30994523,  0.47312634,  0.45113615,  0.93066821,  0.27290388,\n",
       "        0.48513273,  0.48185068,  0.90301292,  0.22939518,  0.73888142,\n",
       "        0.15863902,  0.6067003 ,  0.29247166,  0.79506628, -0.98694651,\n",
       "        0.35549098, -0.89999919,  0.36536028, -0.81191477,  0.42067612,\n",
       "       -0.86987546,  0.41410798, -0.46736428,  0.77367797, -0.12994025,\n",
       "        0.77216049, -0.27379545,  0.70375467, -0.74160916,  0.49793015,\n",
       "       -0.36957105,  0.76995606, -0.33820426,  0.81751573, -0.06785934,\n",
       "        1.        , -0.54075916,  0.83035198,  0.96347773,  1.        ,\n",
       "        0.23875458,  1.        , -0.08477312,  0.77689556,  0.44309106,\n",
       "        1.        ,  1.        ,  0.        ,  0.3       ,  0.5       ,\n",
       "        0.9       ,  0.6960097 ,  0.        ,  0.05384615,  0.        ,\n",
       "        0.93333333,  0.76      ,  0.42777778])"
      ]
     },
     "execution_count": 20,
     "metadata": {},
     "output_type": "execute_result"
    }
   ],
   "source": [
    "data_x[0]"
   ]
  },
  {
   "cell_type": "code",
   "execution_count": 3,
   "metadata": {},
   "outputs": [
    {
     "name": "stdout",
     "output_type": "stream",
     "text": [
      "[[ 0.42704644  0.66770483  0.65231137  0.74091079  0.7963059   0.77209695\n",
      "   0.44660855  0.7166827   0.99445647  0.70574151  0.28611768  0.51105622\n",
      "   0.94117647  0.         -0.35238635  0.71550338  0.70462337  0.52019296\n",
      "  -0.15301023  0.66227534  0.5017355   0.51085926  0.4275446   0.57725424\n",
      "   0.44988926  0.38844277 -0.07251496  0.55019144  0.03753322  0.47276805\n",
      "  -0.12047587  0.59533242  0.07439166  0.37740665 -0.05115453  0.3272814\n",
      "   0.08975928  0.33169901 -0.00317692  0.39752012  0.78199507  0.743895\n",
      "   0.66586739  0.62534491  0.39494014  0.72794711  0.56544212  0.6717177\n",
      "   0.5269827   0.57185585  1.00000026  0.75417686  0.42136297  0.48693439\n",
      "   0.49117221  0.64256741  0.53936076  0.68499347  0.63112139  0.82412419\n",
      "   0.5159303   1.          0.50489291  0.74245786  0.06679235  0.87715351\n",
      "  -0.00816602  0.98005827  0.1029403   0.7400786   0.06742443  0.68681759\n",
      "   0.00448319  0.74112653  0.10390393  0.56806664  0.18794425  0.59033916\n",
      "  -0.00298173  0.55796507 -0.02540764  0.57293109 -0.12461334  0.54885063\n",
      "  -0.0016832   0.03064747  0.10766828  0.21778798 -0.12045891  0.13383218\n",
      "  -0.02154631  0.07515586 -0.02787621  0.10418468  0.03406071  0.04711174\n",
      "   1.          0.3030303   0.27272727  0.45454545  0.61363636  0.99999499\n",
      "   0.82608696  0.63210702  1.          0.          0.          0.03985507]]\n",
      "['宣告']\n"
     ]
    }
   ],
   "source": [
    "# import numpy\n",
    "# import pandas\n",
    "# import joblib\n",
    "# import sklearn\n",
    "\n",
    "# from sklearn.neighbors import KNeighborsClassifier\n",
    "# from sklearn.ensemble import RandomForestClassifier\n",
    "# from sklearn.neural_network import MLPClassifier\n",
    "# from sklearn.svm import SVC\n",
    "\n",
    "# # #csv read file test\n",
    "\n",
    "# # # Read Dataset (CSV file)\n",
    "# # data_set = pandas.read_csv(\"orig_datasets.csv\", index_col=False)\n",
    "\n",
    "# # # Convert to Array\n",
    "# # data_set = numpy.array(data_set)\n",
    "\n",
    "\n",
    "# # # Calculate Number of Rows and Columns of Dataset File\n",
    "# # number_of_rows, number_of_cols = data_set.shape\n",
    "\n",
    "\n",
    "# # # Get Axis_X and Axis_Y of Data\n",
    "# # data_x = data_set[:, :number_of_cols - 5]\n",
    "\n",
    "# # testData = [data_x[0]]\n",
    "# # # numpy.save(\"test.npy\",testData)\n",
    "\n",
    "\n",
    "# datasetsForFit = numpy.load('trainData.npy',allow_pickle = True)\n",
    "\n",
    "# scaler = sklearn.preprocessing.MaxAbsScaler()\n",
    "\n",
    "# # fit transform on training data\n",
    "# scaler.fit(datasetsForFit)\n",
    "\n",
    "# aa = numpy.load('test.npy',allow_pickle=True)\n",
    "\n",
    "# # transform training data\n",
    "# data_X = scaler.transform(aa)\n",
    "\n",
    "# print(data_X)\n",
    "\n",
    "\n",
    "# svm = joblib.load('model_music_classification.pkl')\n",
    "\n",
    "# predicts = svm.predict(data_X)\n",
    "\n",
    "# print(predicts)"
   ]
  },
  {
   "cell_type": "code",
   "execution_count": null,
   "metadata": {},
   "outputs": [],
   "source": []
  },
  {
   "cell_type": "code",
   "execution_count": null,
   "metadata": {},
   "outputs": [],
   "source": []
  }
 ],
 "metadata": {
  "kernelspec": {
   "display_name": "Python (ai22)",
   "language": "python",
   "name": "myenv"
  },
  "language_info": {
   "codemirror_mode": {
    "name": "ipython",
    "version": 3
   },
   "file_extension": ".py",
   "mimetype": "text/x-python",
   "name": "python",
   "nbconvert_exporter": "python",
   "pygments_lexer": "ipython3",
   "version": "3.7.9"
  },
  "toc": {
   "base_numbering": 1,
   "nav_menu": {},
   "number_sections": true,
   "sideBar": true,
   "skip_h1_title": false,
   "title_cell": "Table of Contents",
   "title_sidebar": "Contents",
   "toc_cell": false,
   "toc_position": {},
   "toc_section_display": true,
   "toc_window_display": false
  },
  "varInspector": {
   "cols": {
    "lenName": 16,
    "lenType": 16,
    "lenVar": 40
   },
   "kernels_config": {
    "python": {
     "delete_cmd_postfix": "",
     "delete_cmd_prefix": "del ",
     "library": "var_list.py",
     "varRefreshCmd": "print(var_dic_list())"
    },
    "r": {
     "delete_cmd_postfix": ") ",
     "delete_cmd_prefix": "rm(",
     "library": "var_list.r",
     "varRefreshCmd": "cat(var_dic_list()) "
    }
   },
   "types_to_exclude": [
    "module",
    "function",
    "builtin_function_or_method",
    "instance",
    "_Feature"
   ],
   "window_display": false
  }
 },
 "nbformat": 4,
 "nbformat_minor": 4
}

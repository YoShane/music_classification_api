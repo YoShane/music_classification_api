{
 "cells": [
  {
   "cell_type": "code",
   "execution_count": 2,
   "metadata": {},
   "outputs": [
    {
     "name": "stdout",
     "output_type": "stream",
     "text": [
      "[[910.5064659 1393.171517 674.235206 ... 0.133333333 0.6 0.233333333]\n",
      " [706.0084416 208.88832209999998 1418.156823 ... 0.0 0.409090909\n",
      "  0.545454545]\n",
      " [1503.151909 1523.191187 1310.206044 ... 0.088235294 0.441176471\n",
      "  0.382352941]\n",
      " ...\n",
      " [940.8922402616043 592.4072059047944 1138.1879492985188 ... 0.0 0.08\n",
      "  0.04]\n",
      " [1113.169072546734 380.559806069599 1853.5972399840516 ...\n",
      "  0.047619047619047616 0.0 0.0]\n",
      " [1505.2187184377428 1188.371603185156 1740.5543796037152 ... 0.0 0.0\n",
      "  0.021739130434782608]]\n",
      "[[-0.71790611  0.51669272 -1.         ...  0.86666666  0.52\n",
      "  -0.14444444]\n",
      " [-0.85229014 -0.9637819  -0.25385952 ... -1.          0.03636364\n",
      "   1.        ]\n",
      " [-0.32845453  0.67923055 -0.36213228 ...  0.23529411  0.11764706\n",
      "   0.40196078]\n",
      " ...\n",
      " [-0.69793838 -0.48434423 -0.53466345 ... -1.         -0.79733333\n",
      "  -0.85333333]\n",
      " [-0.58472822 -0.74917506  0.18287966 ... -0.33333333 -1.\n",
      "  -1.        ]\n",
      " [-0.32709635  0.26067197  0.06949963 ... -1.         -1.\n",
      "  -0.92028986]]\n"
     ]
    },
    {
     "data": {
      "text/plain": [
       "['model_music_classification.pkl']"
      ]
     },
     "execution_count": 2,
     "metadata": {},
     "output_type": "execute_result"
    }
   ],
   "source": [
    "import numpy\n",
    "import pandas\n",
    "import joblib\n",
    "import sklearn\n",
    "\n",
    "from sklearn.neighbors import KNeighborsClassifier\n",
    "from sklearn.ensemble import RandomForestClassifier\n",
    "from sklearn.neural_network import MLPClassifier\n",
    "from sklearn.svm import SVC\n",
    "\n",
    "\n",
    "# Read Dataset (CSV file)\n",
    "data_set = pandas.read_csv(\"orig_datasets.csv\", index_col=False)\n",
    "\n",
    "# Convert to Array\n",
    "data_set = numpy.array(data_set)\n",
    "\n",
    "\n",
    "# Calculate Number of Rows and Columns of Dataset File\n",
    "number_of_rows, number_of_cols = data_set.shape\n",
    "\n",
    "\n",
    "# Get Axis_X and Axis_Y of Data\n",
    "data_x = data_set[:, :number_of_cols - 5]\n",
    "data_y = data_set[:, number_of_cols - 5]\n",
    "\n",
    "#print(data_x)\n",
    "\n",
    "scaler = sklearn.preprocessing.MinMaxScaler(feature_range=(-1, 1))\n",
    "data_x = scaler.fit_transform(data_x)\n",
    "\n",
    "print(data_x)\n",
    "#     # Different Ways of Classification (In Our Project, We Use SVM)\n",
    "model = SVC(C=100.0, gamma=0.08)\n",
    "\n",
    "#     # model = RandomForestClassifier(n_estimators=10)\n",
    "#     # model = MLPClassifier(hidden_layer_sizes=(100,))\n",
    "#     # model = KNeighborsClassifier(n_neighbors=Model.NEIGHBOURS_NUMBER)\n",
    "\n",
    "model.fit(data_x, data_y)\n",
    "\n",
    "joblib.dump(model, 'model_music_classification.pkl')\n",
    "    "
   ]
  },
  {
   "cell_type": "code",
   "execution_count": 42,
   "metadata": {},
   "outputs": [
    {
     "name": "stdout",
     "output_type": "stream",
     "text": [
      "['信靠' '信靠' '仰望' '尋求' '讚美' '尋求' '仰望' '仰望' '宣告' '醫治' '仰望' '仰望' '讚美' '尋求'\n",
      " '仰望' '宣告' '仰望' '醫治' '信靠' '感恩' '尋求' '奉獻' '奉獻' '奉獻' '爭戰' '爭戰' '悔改' '仰望'\n",
      " '宣告']\n"
     ]
    }
   ],
   "source": [
    "# Predict Genres\n",
    "svm = joblib.load('model_music_classification.pkl')\n",
    "predicts = svm.predict(data_x)\n",
    "\n",
    "print(predicts)"
   ]
  },
  {
   "cell_type": "code",
   "execution_count": 44,
   "metadata": {},
   "outputs": [
    {
     "data": {
      "text/plain": [
       "(29, 108)"
      ]
     },
     "execution_count": 44,
     "metadata": {},
     "output_type": "execute_result"
    }
   ],
   "source": [
    "data_x.shape"
   ]
  },
  {
   "cell_type": "code",
   "execution_count": 31,
   "metadata": {},
   "outputs": [
    {
     "data": {
      "text/plain": [
       "array([[910.5064659, 1393.171517, 674.235206, ..., 0.133333333, 0.6,\n",
       "        0.233333333],\n",
       "       [706.0084416, 208.88832209999998, 1418.156823, ..., 0.0,\n",
       "        0.409090909, 0.545454545],\n",
       "       [1503.151909, 1523.191187, 1310.206044, ..., 0.088235294,\n",
       "        0.441176471, 0.382352941],\n",
       "       ...,\n",
       "       [940.8922402616043, 592.4072059047944, 1138.1879492985188, ...,\n",
       "        0.0, 0.08, 0.04],\n",
       "       [1113.169072546734, 380.559806069599, 1853.5972399840516, ...,\n",
       "        0.047619047619047616, 0.0, 0.0],\n",
       "       [1505.2187184377428, 1188.371603185156, 1740.5543796037152, ...,\n",
       "        0.0, 0.0, 0.021739130434782608]], dtype=object)"
      ]
     },
     "execution_count": 31,
     "metadata": {},
     "output_type": "execute_result"
    }
   ],
   "source": [
    "data_x"
   ]
  },
  {
   "cell_type": "code",
   "execution_count": null,
   "metadata": {},
   "outputs": [],
   "source": []
  }
 ],
 "metadata": {
  "kernelspec": {
   "display_name": "Python (ai22)",
   "language": "python",
   "name": "myenv"
  },
  "language_info": {
   "codemirror_mode": {
    "name": "ipython",
    "version": 3
   },
   "file_extension": ".py",
   "mimetype": "text/x-python",
   "name": "python",
   "nbconvert_exporter": "python",
   "pygments_lexer": "ipython3",
   "version": "3.7.9"
  },
  "toc": {
   "base_numbering": 1,
   "nav_menu": {},
   "number_sections": true,
   "sideBar": true,
   "skip_h1_title": false,
   "title_cell": "Table of Contents",
   "title_sidebar": "Contents",
   "toc_cell": false,
   "toc_position": {},
   "toc_section_display": true,
   "toc_window_display": false
  },
  "varInspector": {
   "cols": {
    "lenName": 16,
    "lenType": 16,
    "lenVar": 40
   },
   "kernels_config": {
    "python": {
     "delete_cmd_postfix": "",
     "delete_cmd_prefix": "del ",
     "library": "var_list.py",
     "varRefreshCmd": "print(var_dic_list())"
    },
    "r": {
     "delete_cmd_postfix": ") ",
     "delete_cmd_prefix": "rm(",
     "library": "var_list.r",
     "varRefreshCmd": "cat(var_dic_list()) "
    }
   },
   "types_to_exclude": [
    "module",
    "function",
    "builtin_function_or_method",
    "instance",
    "_Feature"
   ],
   "window_display": false
  }
 },
 "nbformat": 4,
 "nbformat_minor": 4
}
